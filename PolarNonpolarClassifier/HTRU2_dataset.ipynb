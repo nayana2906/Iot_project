{
 "cells": [
  {
   "cell_type": "code",
   "execution_count": 1,
   "id": "095aaec9-93a6-4788-bdb7-508ffe8352ab",
   "metadata": {},
   "outputs": [],
   "source": [
    "# Importing the necessary libraries \n",
    "import pandas as pd\n",
    "from sklearn.model_selection import train_test_split\n",
    "from sklearn.preprocessing import StandardScaler\n",
    "\n",
    "# Load the HTRU2 dataset\n",
    "columns = [\n",
    "    'Mean of the integrated profile', 'Standard deviation of the integrated profile',\n",
    "    'Excess kurtosis of the integrated profile', 'Skewness of the integrated profile',\n",
    "    'Mean of the DM-SNR curve', 'Standard deviation of the DM-SNR curve',\n",
    "    'Excess kurtosis of the DM-SNR curve', 'Skewness of the DM-SNR curve', 'Class'\n",
    "]\n"
   ]
  },
  {
   "cell_type": "code",
   "execution_count": 2,
   "id": "4d0c846d",
   "metadata": {},
   "outputs": [],
   "source": [
    "# Reading the dataset \n",
    "data = pd.read_csv('HTRU_2.csv', names=columns)"
   ]
  },
  {
   "cell_type": "code",
   "execution_count": 3,
   "id": "878749c9",
   "metadata": {},
   "outputs": [
    {
     "data": {
      "text/html": [
       "<div>\n",
       "<style scoped>\n",
       "    .dataframe tbody tr th:only-of-type {\n",
       "        vertical-align: middle;\n",
       "    }\n",
       "\n",
       "    .dataframe tbody tr th {\n",
       "        vertical-align: top;\n",
       "    }\n",
       "\n",
       "    .dataframe thead th {\n",
       "        text-align: right;\n",
       "    }\n",
       "</style>\n",
       "<table border=\"1\" class=\"dataframe\">\n",
       "  <thead>\n",
       "    <tr style=\"text-align: right;\">\n",
       "      <th></th>\n",
       "      <th>Mean of the integrated profile</th>\n",
       "      <th>Standard deviation of the integrated profile</th>\n",
       "      <th>Excess kurtosis of the integrated profile</th>\n",
       "      <th>Skewness of the integrated profile</th>\n",
       "      <th>Mean of the DM-SNR curve</th>\n",
       "      <th>Standard deviation of the DM-SNR curve</th>\n",
       "      <th>Excess kurtosis of the DM-SNR curve</th>\n",
       "      <th>Skewness of the DM-SNR curve</th>\n",
       "      <th>Class</th>\n",
       "    </tr>\n",
       "  </thead>\n",
       "  <tbody>\n",
       "    <tr>\n",
       "      <th>0</th>\n",
       "      <td>140.562500</td>\n",
       "      <td>55.683782</td>\n",
       "      <td>-0.234571</td>\n",
       "      <td>-0.699648</td>\n",
       "      <td>3.199833</td>\n",
       "      <td>19.110426</td>\n",
       "      <td>7.975532</td>\n",
       "      <td>74.242225</td>\n",
       "      <td>0</td>\n",
       "    </tr>\n",
       "    <tr>\n",
       "      <th>1</th>\n",
       "      <td>102.507812</td>\n",
       "      <td>58.882430</td>\n",
       "      <td>0.465318</td>\n",
       "      <td>-0.515088</td>\n",
       "      <td>1.677258</td>\n",
       "      <td>14.860146</td>\n",
       "      <td>10.576487</td>\n",
       "      <td>127.393580</td>\n",
       "      <td>0</td>\n",
       "    </tr>\n",
       "    <tr>\n",
       "      <th>2</th>\n",
       "      <td>103.015625</td>\n",
       "      <td>39.341649</td>\n",
       "      <td>0.323328</td>\n",
       "      <td>1.051164</td>\n",
       "      <td>3.121237</td>\n",
       "      <td>21.744669</td>\n",
       "      <td>7.735822</td>\n",
       "      <td>63.171909</td>\n",
       "      <td>0</td>\n",
       "    </tr>\n",
       "    <tr>\n",
       "      <th>3</th>\n",
       "      <td>136.750000</td>\n",
       "      <td>57.178449</td>\n",
       "      <td>-0.068415</td>\n",
       "      <td>-0.636238</td>\n",
       "      <td>3.642977</td>\n",
       "      <td>20.959280</td>\n",
       "      <td>6.896499</td>\n",
       "      <td>53.593661</td>\n",
       "      <td>0</td>\n",
       "    </tr>\n",
       "    <tr>\n",
       "      <th>4</th>\n",
       "      <td>88.726562</td>\n",
       "      <td>40.672225</td>\n",
       "      <td>0.600866</td>\n",
       "      <td>1.123492</td>\n",
       "      <td>1.178930</td>\n",
       "      <td>11.468720</td>\n",
       "      <td>14.269573</td>\n",
       "      <td>252.567306</td>\n",
       "      <td>0</td>\n",
       "    </tr>\n",
       "  </tbody>\n",
       "</table>\n",
       "</div>"
      ],
      "text/plain": [
       "   Mean of the integrated profile  \\\n",
       "0                      140.562500   \n",
       "1                      102.507812   \n",
       "2                      103.015625   \n",
       "3                      136.750000   \n",
       "4                       88.726562   \n",
       "\n",
       "   Standard deviation of the integrated profile  \\\n",
       "0                                     55.683782   \n",
       "1                                     58.882430   \n",
       "2                                     39.341649   \n",
       "3                                     57.178449   \n",
       "4                                     40.672225   \n",
       "\n",
       "   Excess kurtosis of the integrated profile  \\\n",
       "0                                  -0.234571   \n",
       "1                                   0.465318   \n",
       "2                                   0.323328   \n",
       "3                                  -0.068415   \n",
       "4                                   0.600866   \n",
       "\n",
       "   Skewness of the integrated profile  Mean of the DM-SNR curve  \\\n",
       "0                           -0.699648                  3.199833   \n",
       "1                           -0.515088                  1.677258   \n",
       "2                            1.051164                  3.121237   \n",
       "3                           -0.636238                  3.642977   \n",
       "4                            1.123492                  1.178930   \n",
       "\n",
       "   Standard deviation of the DM-SNR curve  \\\n",
       "0                               19.110426   \n",
       "1                               14.860146   \n",
       "2                               21.744669   \n",
       "3                               20.959280   \n",
       "4                               11.468720   \n",
       "\n",
       "   Excess kurtosis of the DM-SNR curve  Skewness of the DM-SNR curve  Class  \n",
       "0                             7.975532                     74.242225      0  \n",
       "1                            10.576487                    127.393580      0  \n",
       "2                             7.735822                     63.171909      0  \n",
       "3                             6.896499                     53.593661      0  \n",
       "4                            14.269573                    252.567306      0  "
      ]
     },
     "execution_count": 3,
     "metadata": {},
     "output_type": "execute_result"
    }
   ],
   "source": [
    "data.head()"
   ]
  },
  {
   "cell_type": "code",
   "execution_count": 4,
   "id": "c34b1611",
   "metadata": {},
   "outputs": [],
   "source": [
    "# Separate features and labels\n",
    "X = data.iloc[:, :-1].values\n",
    "y = data.iloc[:, -1].values"
   ]
  },
  {
   "cell_type": "code",
   "execution_count": 7,
   "id": "f6fb6dd0",
   "metadata": {},
   "outputs": [],
   "source": [
    "# Split into training and test sets \n",
    "X_train, X_test, y_train, y_test = train_test_split(X, y, test_size=0.2, random_state=42)"
   ]
  },
  {
   "cell_type": "code",
   "execution_count": 8,
   "id": "cfff82bb",
   "metadata": {},
   "outputs": [],
   "source": [
    "#The StandardScaler transforms the data such that each feature has a mean of 0 and a standard deviation of 1. \n",
    "# Standardize the data\n",
    "scaler = StandardScaler()\n",
    "X_train = scaler.fit_transform(X_train)\n",
    "X_test = scaler.transform(X_test)"
   ]
  },
  {
   "cell_type": "code",
   "execution_count": 9,
   "id": "ecb98b3b-447b-46d0-9828-7e19b3a2ba8f",
   "metadata": {
    "scrolled": true
   },
   "outputs": [
    {
     "name": "stdout",
     "output_type": "stream",
     "text": [
      "Epoch 1/10\n",
      "1432/1432 [==============================] - 8s 5ms/step - loss: 0.1108 - accuracy: 0.9712 - val_loss: 0.0719 - val_accuracy: 0.9752\n",
      "Epoch 2/10\n",
      "1432/1432 [==============================] - 11s 7ms/step - loss: 0.0832 - accuracy: 0.9787 - val_loss: 0.0706 - val_accuracy: 0.9780\n",
      "Epoch 3/10\n",
      "1432/1432 [==============================] - 10s 7ms/step - loss: 0.0777 - accuracy: 0.9790 - val_loss: 0.0680 - val_accuracy: 0.9791\n",
      "Epoch 4/10\n",
      "1432/1432 [==============================] - 9s 6ms/step - loss: 0.0774 - accuracy: 0.9790 - val_loss: 0.0695 - val_accuracy: 0.9797\n",
      "Epoch 5/10\n",
      "1432/1432 [==============================] - 9s 6ms/step - loss: 0.0758 - accuracy: 0.9782 - val_loss: 0.0660 - val_accuracy: 0.9787\n",
      "Epoch 6/10\n",
      "1432/1432 [==============================] - 11s 7ms/step - loss: 0.0768 - accuracy: 0.9786 - val_loss: 0.0655 - val_accuracy: 0.9794\n",
      "Epoch 7/10\n",
      "1432/1432 [==============================] - 6s 4ms/step - loss: 0.0758 - accuracy: 0.9792 - val_loss: 0.0646 - val_accuracy: 0.9794\n",
      "Epoch 8/10\n",
      "1432/1432 [==============================] - 7s 5ms/step - loss: 0.0748 - accuracy: 0.9796 - val_loss: 0.0680 - val_accuracy: 0.9801\n",
      "Epoch 9/10\n",
      "1432/1432 [==============================] - 5s 4ms/step - loss: 0.0723 - accuracy: 0.9794 - val_loss: 0.0653 - val_accuracy: 0.9797\n",
      "Epoch 10/10\n",
      "1432/1432 [==============================] - 7s 5ms/step - loss: 0.0745 - accuracy: 0.9797 - val_loss: 0.0635 - val_accuracy: 0.9804\n"
     ]
    }
   ],
   "source": [
    "import tensorflow as tf\n",
    "from tensorflow.keras.models import Sequential\n",
    "from tensorflow.keras.layers import Dense, Dropout\n",
    "import tensorflow as tf\n",
    "from tensorflow.keras.models import Sequential\n",
    "from tensorflow.keras.layers import Dense, Dropout\n",
    "\n",
    "# Define the number of nodes in each layer\n",
    "DENSE1_SIZE = 24  # First dense layer\n",
    "DENSE2_SIZE = 16  # Second dense layer\n",
    "NUM_OF_EPOCHS = 10  # Simple model, not too many epochs needed\n",
    "BATCH_SIZE = 8\n",
    "\n",
    "# HTRU2 dataset: 8 input features\n",
    "input_shape = X_train.shape[1]  # Assuming X_train is pre-processed\n",
    "\n",
    "# Build the model\n",
    "model =  tf.keras.Sequential()\n",
    "\n",
    "model.add(tf.keras.layers.Dense(DENSE1_SIZE, activation='relu', input_shape=(input_shape,)))\n",
    "\n",
    "# Hidden layers\n",
    "model.add(tf.keras.layers.Dense(DENSE2_SIZE, activation='relu'))\n",
    "model.add(tf.keras.layers.Dropout(0.3))  # Dropout to avoid overfitting\n",
    "\n",
    "# Output layer for binary classification\n",
    "model.add(tf.keras.layers.Dense(1, activation='sigmoid'))\n",
    "\n",
    "# Compile the model using binary crossentropy for binary classification\n",
    "model.compile(optimizer='adam', loss='binary_crossentropy', metrics=['accuracy'])\n",
    "\n",
    "# Train the model\n",
    "history = model.fit(X_train, y_train, epochs=NUM_OF_EPOCHS, batch_size=BATCH_SIZE, validation_split=0.2, verbose=1)\n",
    "\n"
   ]
  },
  {
   "cell_type": "code",
   "execution_count": 10,
   "id": "0162302f-3982-4d9b-815b-ba8de461ee78",
   "metadata": {},
   "outputs": [
    {
     "name": "stdout",
     "output_type": "stream",
     "text": [
      "Shape of X_train and X_test: (14318, 8) (3580, 8)\n",
      "Shape of y_train and y_test: (14318,) (3580,)\n"
     ]
    }
   ],
   "source": [
    "print('Shape of X_train and X_test:', X_train.shape, X_test.shape)\n",
    "print('Shape of y_train and y_test:', y_train.shape, y_test.shape)"
   ]
  },
  {
   "cell_type": "code",
   "execution_count": 11,
   "id": "ad658174-ef17-4985-a8c8-a24154d6cc78",
   "metadata": {},
   "outputs": [
    {
     "name": "stdout",
     "output_type": "stream",
     "text": [
      "Model: \"sequential\"\n",
      "_________________________________________________________________\n",
      " Layer (type)                Output Shape              Param #   \n",
      "=================================================================\n",
      " dense (Dense)               (None, 24)                216       \n",
      "                                                                 \n",
      " dense_1 (Dense)             (None, 16)                400       \n",
      "                                                                 \n",
      " dropout (Dropout)           (None, 16)                0         \n",
      "                                                                 \n",
      " dense_2 (Dense)             (None, 1)                 17        \n",
      "                                                                 \n",
      "=================================================================\n",
      "Total params: 633\n",
      "Trainable params: 633\n",
      "Non-trainable params: 0\n",
      "_________________________________________________________________\n"
     ]
    }
   ],
   "source": [
    "model.summary()"
   ]
  },
  {
   "cell_type": "code",
   "execution_count": 12,
   "id": "73166161-17a8-4239-b52b-dee000dcba1b",
   "metadata": {},
   "outputs": [
    {
     "name": "stdout",
     "output_type": "stream",
     "text": [
      "112/112 [==============================] - 1s 3ms/step - loss: 0.0654 - accuracy: 0.9807\n",
      "Test accuracy: 0.9807\n"
     ]
    }
   ],
   "source": [
    "# Evaluate the model on the test set\n",
    "test_loss, test_acc = model.evaluate(X_test, y_test)\n",
    "print(f\"Test accuracy: {test_acc:.4f}\")\n"
   ]
  },
  {
   "cell_type": "code",
   "execution_count": 13,
   "id": "19099fc8-8660-4275-a928-945098937de1",
   "metadata": {},
   "outputs": [
    {
     "data": {
      "image/png": "[encoded data removed]",
      "text/plain": [
       "<Figure size 640x480 with 1 Axes>"
      ]
     },
     "metadata": {},
     "output_type": "display_data"
    },
    {
     "data": {
      "image/png": "[encoded data removed]",
      "text/plain": [
       "<Figure size 640x480 with 1 Axes>"
      ]
     },
     "metadata": {},
     "output_type": "display_data"
    }
   ],
   "source": [
    "import matplotlib.pyplot as plt\n",
    "\n",
    "# Plot training & validation accuracy values\n",
    "plt.plot(history.history['accuracy'])\n",
    "plt.plot(history.history['val_accuracy'])\n",
    "plt.title('Model accuracy')\n",
    "plt.ylabel('Accuracy')\n",
    "plt.xlabel('Epoch')\n",
    "plt.legend(['Train', 'Validation'], loc='upper left')\n",
    "plt.show()\n",
    "\n",
    "# Plot training & validation loss values\n",
    "plt.plot(history.history['loss'])\n",
    "plt.plot(history.history['val_loss'])\n",
    "plt.title('Model loss')\n",
    "plt.ylabel('Loss')\n",
    "plt.xlabel('Epoch')\n",
    "plt.legend(['Train', 'Validation'], loc='upper left')\n",
    "plt.show()\n"
   ]
  },
  {
   "cell_type": "code",
   "execution_count": 14,
   "id": "7d2ba36c-184e-4198-b119-9d5bdacb0960",
   "metadata": {},
   "outputs": [
    {
     "name": "stdout",
     "output_type": "stream",
     "text": [
      "112/112 [==============================] - 1s 3ms/step\n",
      "Confusion Matrix:\n",
      " [[3232   27]\n",
      " [  42  279]]\n"
     ]
    },
    {
     "data": {
      "image/png": "[encoded data removed]",
      "text/plain": [
       "<Figure size 800x600 with 1 Axes>"
      ]
     },
     "metadata": {},
     "output_type": "display_data"
    }
   ],
   "source": [
    "from sklearn.metrics import confusion_matrix, classification_report\n",
    "import seaborn as sns\n",
    "# Make predictions\n",
    "y_pred = (model.predict(X_test) > 0.5).astype(\"int32\")\n",
    "\n",
    "# Confusion matrix\n",
    "cm = confusion_matrix(y_test, y_pred)\n",
    "print(\"Confusion Matrix:\\n\", cm)\n",
    "\n",
    "plt.figure(figsize=(8, 6))\n",
    "sns.heatmap(cm, annot=True, fmt=\"d\", cmap=\"Blues\", cbar=False)\n",
    "plt.xlabel(\"Predicted Labels\")\n",
    "plt.ylabel(\"True Labels\")\n",
    "plt.title(\"Confusion Matrix\")\n",
    "plt.show()\n"
   ]
  },
  {
   "cell_type": "code",
   "execution_count": 15,
   "id": "3b0d100a",
   "metadata": {},
   "outputs": [
    {
     "name": "stdout",
     "output_type": "stream",
     "text": [
      "Classification Report:\n",
      "               precision    recall  f1-score   support\n",
      "\n",
      "           0       0.99      0.99      0.99      3259\n",
      "           1       0.91      0.87      0.89       321\n",
      "\n",
      "    accuracy                           0.98      3580\n",
      "   macro avg       0.95      0.93      0.94      3580\n",
      "weighted avg       0.98      0.98      0.98      3580\n",
      "\n"
     ]
    }
   ],
   "source": [
    "# Classification report\n",
    "print(\"Classification Report:\\n\", classification_report(y_test, y_pred))"
   ]
  },
  {
   "cell_type": "code",
   "execution_count": 16,
   "id": "d7802a71-6b35-493c-b938-35fddeb9009b",
   "metadata": {},
   "outputs": [],
   "source": [
    "model.save('PolarNonPolarClassify.h5')"
   ]
  },
  {
   "cell_type": "code",
   "execution_count": 17,
   "id": "4fef4afb-c894-4b95-978d-80ee4b80d7f7",
   "metadata": {},
   "outputs": [
    {
     "name": "stdout",
     "output_type": "stream",
     "text": [
      "<generator object representative_dataset at 0x00000278F3BEED48>\n"
     ]
    }
   ],
   "source": [
    "def representative_dataset():\n",
    "    for _ in range(100):\n",
    "      data =  X_test\n",
    "      yield [data.astype(np.float32)]\n",
    "        \n",
    "print(representative_dataset())"
   ]
  },
  {
   "cell_type": "code",
   "execution_count": 18,
   "id": "3b36934a-1a26-4303-a26a-9f70cb53bb52",
   "metadata": {},
   "outputs": [
    {
     "name": "stdout",
     "output_type": "stream",
     "text": [
      "INFO:tensorflow:Assets written to: IOT_PROJECT\\assets\n"
     ]
    }
   ],
   "source": [
    "tf.saved_model.save(model, \"IOT_PROJECT\")\n",
    "converter = tf.lite.TFLiteConverter.from_saved_model(\"IOT_PROJECT\")"
   ]
  },
  {
   "cell_type": "code",
   "execution_count": 19,
   "id": "28272a85-bd18-4f54-9ecd-d4763dbc75cf",
   "metadata": {},
   "outputs": [],
   "source": [
    "import numpy as np\n",
    "#converter.optimizations = [tf.lite.Optimize.DEFAULT]\n",
    "converter.representative_dataset = representative_dataset\n",
    "\n",
    "tflite_model = converter.convert()"
   ]
  },
  {
   "cell_type": "code",
   "execution_count": 20,
   "id": "91b7e212",
   "metadata": {},
   "outputs": [],
   "source": [
    "with open('PolarNonPolarClassify.tflite', 'wb') as f:\n",
    "  f.write(tflite_model)"
   ]
  },
  {
   "cell_type": "code",
   "execution_count": 21,
   "id": "d2420066",
   "metadata": {},
   "outputs": [],
   "source": [
    "interpreter = tf.lite.Interpreter(model_path=\"PolarNonPolarClassify.tflite\")#loading the interpreter from \n",
    "interpreter.allocate_tensors()#allocating memory for computation"
   ]
  },
  {
   "cell_type": "code",
   "execution_count": 22,
   "id": "3ab231bb",
   "metadata": {},
   "outputs": [
    {
     "name": "stdout",
     "output_type": "stream",
     "text": [
      "input_details:\n",
      " [{'name': 'serving_default_dense_input:0', 'index': 0, 'shape': array([1, 8]), 'shape_signature': array([-1,  8]), 'dtype': <class 'numpy.float32'>, 'quantization': (0.0, 0), 'quantization_parameters': {'scales': array([], dtype=float32), 'zero_points': array([], dtype=int32), 'quantized_dimension': 0}, 'sparsity_parameters': {}}]\n",
      "output_details:\n",
      " [{'name': 'StatefulPartitionedCall:0', 'index': 10, 'shape': array([1, 1]), 'shape_signature': array([-1,  1]), 'dtype': <class 'numpy.float32'>, 'quantization': (0.0, 0), 'quantization_parameters': {'scales': array([], dtype=float32), 'zero_points': array([], dtype=int32), 'quantized_dimension': 0}, 'sparsity_parameters': {}}]\n"
     ]
    }
   ],
   "source": [
    "input_details = interpreter.get_input_details()\n",
    "output_details = interpreter.get_output_details()\n",
    "print('input_details:\\n', input_details)\n",
    "print('output_details:\\n', output_details)"
   ]
  },
  {
   "cell_type": "code",
   "execution_count": 23,
   "id": "773744b9",
   "metadata": {},
   "outputs": [
    {
     "name": "stdout",
     "output_type": "stream",
     "text": [
      "[1 8]\n",
      "Random Input Data:\n",
      "[[0.47765279 0.74494603 0.79944441 0.55473726 0.93217591 0.29323354\n",
      "  0.89976772 0.62770593]]\n",
      "Output from TFLite Model for Random Data:\n",
      "[[0.6064476]]\n",
      "1/1 [==============================] - 0s 45ms/step\n",
      "Output from Original Model for Random Data:\n",
      "[[0.60644764]]\n",
      "Input 1 Data:\n",
      "[[136.5, 49.9327673, 0.044623267, -0.374311456, 1.555183946, 12.81353792, 13.31433912, 214.813089]]\n",
      "Output 1 from TFLite Model:\n",
      "[[0.]]\n",
      "1/1 [==============================] - 0s 63ms/step\n",
      "Output 1 from Original Model:\n",
      "[[0.]]\n",
      "Input 2 Data:\n",
      "[[124.5, 57.35361802, -0.014849043, -0.550963937, 4.783444816, 27.50164045, 6.090448645, 37.81809112]]\n",
      "Output 2 from TFLite Model:\n",
      "[[0.]]\n",
      "1/1 [==============================] - 0s 41ms/step\n",
      "Output 2 from Original Model:\n",
      "[[0.]]\n"
     ]
    }
   ],
   "source": [
    "import numpy as np\n",
    "import tensorflow as tf\n",
    "\n",
    "# Test the model on random input data\n",
    "input_shape = input_details[0]['shape']  # Ensure this shape is compatible with HTRU2 dataset\n",
    "print(input_shape)\n",
    "\n",
    "# Generating random input data for HTRU2\n",
    "input0_data = np.random.random_sample(input_shape)\n",
    "print(\"Random Input Data:\")\n",
    "print(input0_data)\n",
    "\n",
    "input0_data = np.array(input0_data, dtype=np.float32)\n",
    "interpreter.set_tensor(input_details[0]['index'], input0_data)\n",
    "\n",
    "interpreter.invoke()\n",
    "output0_data = interpreter.get_tensor(output_details[0]['index'])\n",
    "print(\"Output from TFLite Model for Random Data:\")\n",
    "print(output0_data)\n",
    "\n",
    "# Verify if the same data is given to the original model what is the output\n",
    "output0_data = model.predict(input0_data)\n",
    "print(\"Output from Original Model for Random Data:\")\n",
    "print(output0_data)\n",
    "\n",
    "# Define specific inputs based on HTRU2 dataset features\n",
    "# Example Input1 (you may need to adjust the values based on your understanding of the dataset)\n",
    "input1_data = [[136.5,49.9327673,0.044623267,-0.374311456,1.555183946,12.81353792,13.31433912,214.813089\n",
    "]]  # Replace with actual meaningful values\n",
    "print(\"Input 1 Data:\")\n",
    "print(input1_data)\n",
    "\n",
    "input1_data = np.array(input1_data, dtype=np.float32)\n",
    "interpreter.set_tensor(input_details[0]['index'], input1_data)\n",
    "\n",
    "interpreter.invoke()\n",
    "output1_data = interpreter.get_tensor(output_details[0]['index'])\n",
    "print('Output 1 from TFLite Model:')\n",
    "print(output1_data)\n",
    "\n",
    "# Verify if the same data is given to the original model what is the output\n",
    "output1_data = model.predict(input1_data)\n",
    "print(\"Output 1 from Original Model:\")\n",
    "print(output1_data)\n",
    "\n",
    "# Example Input2 (again, adjust values as necessary)\n",
    "input2_data = [[124.5,57.35361802,-0.014849043,-0.550963937,4.783444816,27.50164045,6.090448645,37.81809112\n",
    "]]  # Replace with actual meaningful values\n",
    "print(\"Input 2 Data:\")\n",
    "print(input2_data)\n",
    "\n",
    "input2_data = np.array(input2_data, dtype=np.float32)\n",
    "interpreter.set_tensor(input_details[0]['index'], input2_data)\n",
    "\n",
    "interpreter.invoke()\n",
    "output2_data = interpreter.get_tensor(output_details[0]['index'])\n",
    "print('Output 2 from TFLite Model:')\n",
    "print(output2_data)\n",
    "\n",
    "# Verify if the same data is given to the original model what is the output\n",
    "output2_data = model.predict(input2_data)\n",
    "print(\"Output 2 from Original Model:\")\n",
    "print(output2_data)\n"
   ]
  },
  {
   "cell_type": "code",
   "execution_count": 24,
   "id": "cb536bf3",
   "metadata": {},
   "outputs": [],
   "source": [
    "# Function to convert some hex values into an array for C programming\n",
    "import time, sys\n",
    "\n",
    "# Function to convert some hex values into an array for C programming\n",
    "def hex_to_c_array(hex_data, var_name):\n",
    "    c_str = \"\"\n",
    "\n",
    "    # Create header guard\n",
    "    c_str += '#ifndef ' + var_name.upper() + '_H\\n'\n",
    "    c_str += \"#define \" + var_name.upper() + '_H\\n\\n'\n",
    "\n",
    "    c_str += \"/*\\n Author: Mouli Sankaran \\n\"\n",
    "    c_str += \" CAUTION: This is an auto generated file.\\n DO NOT EDIT OR MAKE ANY CHANGES TO IT.\\n\"\n",
    "\n",
    "# Time stamping of this model data in the generated file\n",
    "    localtime = time.asctime( time.localtime(time.time()) )\n",
    "    c_str += \" This model data was generated on \" + localtime+ '\\n\\n'\n",
    "    print(\"This model data was generated on:\", localtime)\n",
    "\n",
    "# Add information about the verisons of tools and packages used in generating this header file\n",
    "    c_str += \" Tools used:\\n Python:\" + str(sys.version) + \"\\n Numpy:\" + str(np.version.version) + \\\n",
    "          \"\\n TensorFlow:\" + str(sys.version) + \"\\n Keras: \"+ str(tf.keras.__version__) + \"\\n\\n\"\n",
    "    print(\"Tools used: Python:\", sys.version, \"\\n Numpy:\", np.version.version, \\\n",
    "          \"\\n TensorFlow:\", sys.version, \"\\n Keras: \", tf.keras.__version__, \"\\n\\n\")\n",
    "\n",
    "# Training details of the model\n",
    "    c_str += ' Model details are:\\n'\n",
    "    c_str += ' NUM_OF_EPOCHS = ' + str(NUM_OF_EPOCHS) + '\\n'\n",
    "    c_str += ' BATCH_SIZE    = ' + str(BATCH_SIZE) + '\\n*/\\n'\n",
    "    \n",
    "# Generate 'C' constants for the no. of nodes in each layer\n",
    "    c_str += '\\nconst int ' + 'DENSE1_SIZE' + ' = ' + str(DENSE1_SIZE) + ';\\n'\n",
    "    c_str +=   'const int ' + 'DENSE2_SIZE' + ' = ' + str(DENSE2_SIZE) + ';\\n'      \n",
    "    \n",
    "    # Add array length at the top of the file\n",
    "    c_str += '\\nconst unsigned int ' + var_name + '_len = ' + str(len(hex_data)) + ';\\n'\n",
    "\n",
    "    # Declare C variable\n",
    "    c_str += 'alignas(8) const unsigned char ' + var_name + '[] = {'\n",
    "    hex_array = []\n",
    "    for i, val in enumerate(hex_data):\n",
    "        # Construct string from hex\n",
    "        hex_str = format(val, '#04x')\n",
    "\n",
    "        # Add formating so each line stays within 80 characters\n",
    "        if (i + 1) < len(hex_data):\n",
    "          hex_str += ','\n",
    "        if (i + 1) % 12 == 0:\n",
    "          hex_str += '\\n'\n",
    "        hex_array.append(hex_str)\n",
    "\n",
    "    # Add closing brace\n",
    "    c_str += '\\n' + format(''.join(hex_array)) + '\\n};\\n\\n'\n",
    "\n",
    "    # Close out header guard\n",
    "    c_str += '#endif //' + var_name.upper() + '_H'\n",
    "\n",
    "    return c_str"
   ]
  },
  {
   "cell_type": "code",
   "execution_count": 25,
   "id": "350bc383",
   "metadata": {},
   "outputs": [
    {
     "name": "stdout",
     "output_type": "stream",
     "text": [
      "This model data was generated on: Tue Nov 19 09:56:34 2024\n",
      "Tools used: Python: 3.7.16 (default, Jan 17 2023, 16:06:28) [MSC v.1916 64 bit (AMD64)] \n",
      " Numpy: 1.21.6 \n",
      " TensorFlow: 3.7.16 (default, Jan 17 2023, 16:06:28) [MSC v.1916 64 bit (AMD64)] \n",
      " Keras:  2.10.0 \n",
      "\n",
      "\n"
     ]
    }
   ],
   "source": [
    "# Write TFLite model to a C source (or header) file\n",
    "with open(\"PolarNonPolarClassify_model\" + '.h', 'w') as file:\n",
    "  file.write(hex_to_c_array(tflite_model, \"PolarNonPolarClassify_model\"))"
   ]
  },
  {
   "cell_type": "code",
   "execution_count": null,
   "id": "1d331c9a",
   "metadata": {},
   "outputs": [],
   "source": []
  }
 ],
 "metadata": {
  "kernelspec": {
   "display_name": "Python 3 (ipykernel)",
   "language": "python",
   "name": "python3"
  },
  "language_info": {
   "codemirror_mode": {
    "name": "ipython",
    "version": 3
   },
   "file_extension": ".py",
   "mimetype": "text/x-python",
   "name": "python",
   "nbconvert_exporter": "python",
   "pygments_lexer": "ipython3",
   "version": "3.7.16"
  }
 },
 "nbformat": 4,
 "nbformat_minor": 5
}
